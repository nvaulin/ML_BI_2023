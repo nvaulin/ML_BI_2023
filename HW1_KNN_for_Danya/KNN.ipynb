{
 "cells": [
  {
   "cell_type": "markdown",
   "id": "39a37345-99a6-4b16-9be7-ebdca1414c7f",
   "metadata": {},
   "source": [
    "# Домашнее задание №1 - Метод К-ближайших соседей (K-neariest neighbors)\n",
    "\n",
    "Сегодня мы с вами реализуем наш первый алгоритм машинного обучения, метод К-ближайших соседей. Мы попытаемся решить с помощью него задачи:\n",
    "- бинарной классификации (то есть, только двум классам)\n",
    "- многоклассовой классификации (то есть, нескольким классам)\n",
    "- регрессии (когда зависимая переменная - натуральное число)\n",
    "\n",
    "Так как методу необходим гиперпараметр (hyperparameter) - количество соседей, то нам нужно научиться подбирать этот параметр. Мы постараемся научиться пользовать numpy для векторизованных вычислений, а также посмотрим на несколько метрик, которые используются в задачах классификации и регрессии.\n",
    "\n",
    "Перед выполнением задания:\n",
    "- установите все необходимые библиотеки, запустив `pip install -r requirements.txt`\n",
    "\n",
    "Если вы раньше не работали с numpy или позабыли его, то можно вспомнить здесь:  \n",
    "http://cs231n.github.io/python-numpy-tutorial/"
   ]
  },
  {
   "cell_type": "code",
   "execution_count": 258,
   "id": "9638c464-806f-41b5-9dfe-1ea2048a1fa1",
   "metadata": {},
   "outputs": [],
   "source": [
    "import time\n",
    "import matplotlib.pyplot as plt\n",
    "import seaborn as sns\n",
    "import numpy as np\n",
    "import random\n",
    "import pandas as pd\n",
    "\n",
    "\n",
    "from sklearn.datasets import fetch_openml\n",
    "from sklearn.model_selection import train_test_split\n",
    "from knn import KNNClassifier\n",
    "from metrics import binary_classification_metrics, multiclass_accuracy"
   ]
  },
  {
   "cell_type": "markdown",
   "id": "02dc48c1",
   "metadata": {},
   "source": [
    "## Attention я немного модифицировал SED"
   ]
  },
  {
   "cell_type": "code",
   "execution_count": 259,
   "id": "43bd8dc9-c430-4313-a6a1-4d3e5a7e9c47",
   "metadata": {},
   "outputs": [],
   "source": [
    "plt.rcParams[\"figure.figsize\"] = 12, 9\n",
    "sns.set_style(\"whitegrid\")\n",
    "\n",
    "SEED = int(np.max((list(map(ord, 'Danya Litvinov is the best!!')))) - 10) # -10 чтобы было 111 как у всех\n",
    "random.seed(SEED)\n",
    "np.random.seed(SEED)"
   ]
  },
  {
   "cell_type": "markdown",
   "id": "2867b963-214c-49ea-9460-5b427b56544d",
   "metadata": {},
   "source": [
    "## Задание 1. KNN на датасете Fashion-MNIST (10 баллов)"
   ]
  },
  {
   "cell_type": "markdown",
   "id": "60a90da7-87ac-42e6-b376-bb34dac2b10b",
   "metadata": {},
   "source": [
    "В этом задании вам предстоит поработать с картинками одежды, среди которых можно выделить 10 классов. Данные уже загружены за вас: в переменной X лежат 70000 картинок размером 28 на 28 пикселей, вытянутые в вектор размерностью 784 (28 * 28). Так как данных довольно много, а наш KNN будет весьма медленный, то возьмем случайно 1000 наблюдений (в реальности в зависимости от вашей реализации можно будет взять больше, но если будет не зватать ОЗУ, то берите меньше)."
   ]
  },
  {
   "cell_type": "code",
   "execution_count": 260,
   "id": "54fa4253-ea6a-4ec4-b914-f7cb2346b195",
   "metadata": {
    "scrolled": true
   },
   "outputs": [
    {
     "name": "stderr",
     "output_type": "stream",
     "text": [
      "C:\\Users\\vauli\\AppData\\Local\\Programs\\Python\\Python311\\Lib\\site-packages\\sklearn\\datasets\\_openml.py:932: FutureWarning: The default value of `parser` will change from `'liac-arff'` to `'auto'` in 1.4. You can set `parser='auto'` to silence this warning. Therefore, an `ImportError` will be raised from 1.4 if the dataset is dense and pandas is not installed. Note that the pandas parser may return different data types. See the Notes Section in fetch_openml's API doc for details.\n",
      "  warn(\n"
     ]
    }
   ],
   "source": [
    "X, y = fetch_openml(name=\"Fashion-MNIST\", return_X_y=True, as_frame=False)"
   ]
  },
  {
   "cell_type": "code",
   "execution_count": 269,
   "id": "3a188c83-6bf3-485d-9995-9f71d0868d30",
   "metadata": {},
   "outputs": [],
   "source": [
    "idx_to_stay = np.random.choice(np.arange(X.shape[0]), replace=False, size=1000)\n",
    "X = X[idx_to_stay]\n",
    "y = y[idx_to_stay].astype(int)"
   ]
  },
  {
   "cell_type": "markdown",
   "id": "4a9e7f89-97f9-4257-94aa-989826258726",
   "metadata": {},
   "source": [
    "Давайте посмотрим на какое-нибудь изображение из наших данных:"
   ]
  },
  {
   "cell_type": "code",
   "execution_count": 270,
   "id": "277e132c-b89f-4dbb-8efd-cbcea015876d",
   "metadata": {},
   "outputs": [
    {
     "data": {
      "image/png": "[encoded data removed]",
      "text/plain": [
       "<Figure size 1200x900 with 1 Axes>"
      ]
     },
     "metadata": {},
     "output_type": "display_data"
    }
   ],
   "source": [
    "# возьмем случайную картинку и сделаем reshape\n",
    "# 28, 28, 1 = H, W, C (число каналов, в данном случае 1)\n",
    "image = X[np.random.choice(np.arange(X.shape[0]))].reshape(28, 28, 1)\n",
    "plt.imshow(image)\n",
    "plt.axis(\"off\");"
   ]
  },
  {
   "cell_type": "markdown",
   "id": "236e593f-595e-45f1-a794-4069a16637d7",
   "metadata": {},
   "source": [
    "### 1.1. Посмотрим на все классы (0.5 баллов)"
   ]
  },
  {
   "cell_type": "markdown",
   "id": "be7d74ca",
   "metadata": {},
   "source": [
    "> Также мы накопали [реальные названия классов](https://github.com/zalandoresearch/fashion-mnist):"
   ]
  },
  {
   "cell_type": "code",
   "execution_count": 271,
   "id": "0c6f35d5",
   "metadata": {},
   "outputs": [
    {
     "ename": "KeyError",
     "evalue": "3",
     "output_type": "error",
     "traceback": [
      "\u001b[1;31m---------------------------------------------------------------------------\u001b[0m",
      "\u001b[1;31mKeyError\u001b[0m                                  Traceback (most recent call last)",
      "Cell \u001b[1;32mIn[271], line 11\u001b[0m\n\u001b[0;32m      1\u001b[0m classes_names \u001b[38;5;241m=\u001b[39m {\u001b[38;5;124m'\u001b[39m\u001b[38;5;124m0\u001b[39m\u001b[38;5;124m'\u001b[39m: \u001b[38;5;124m'\u001b[39m\u001b[38;5;124mT-shirt/top\u001b[39m\u001b[38;5;124m'\u001b[39m,\n\u001b[0;32m      2\u001b[0m \u001b[38;5;124m'\u001b[39m\u001b[38;5;124m1\u001b[39m\u001b[38;5;124m'\u001b[39m: \u001b[38;5;124m'\u001b[39m\u001b[38;5;124mTrouser\u001b[39m\u001b[38;5;124m'\u001b[39m,\n\u001b[0;32m      3\u001b[0m \u001b[38;5;124m'\u001b[39m\u001b[38;5;124m2\u001b[39m\u001b[38;5;124m'\u001b[39m: \u001b[38;5;124m'\u001b[39m\u001b[38;5;124mPullover\u001b[39m\u001b[38;5;124m'\u001b[39m,\n\u001b[1;32m   (...)\u001b[0m\n\u001b[0;32m      9\u001b[0m \u001b[38;5;124m'\u001b[39m\u001b[38;5;124m8\u001b[39m\u001b[38;5;124m'\u001b[39m: \u001b[38;5;124m'\u001b[39m\u001b[38;5;124mBag\u001b[39m\u001b[38;5;124m'\u001b[39m,\n\u001b[0;32m     10\u001b[0m \u001b[38;5;124m'\u001b[39m\u001b[38;5;124m9\u001b[39m\u001b[38;5;124m'\u001b[39m: \u001b[38;5;124m'\u001b[39m\u001b[38;5;124mAnkle boot\u001b[39m\u001b[38;5;124m'\u001b[39m}\n\u001b[1;32m---> 11\u001b[0m y_named \u001b[38;5;241m=\u001b[39m  np\u001b[38;5;241m.\u001b[39marray(\u001b[43m[\u001b[49m\u001b[43mclasses_translation\u001b[49m\u001b[43m[\u001b[49m\u001b[43mx\u001b[49m\u001b[43m]\u001b[49m\u001b[43m \u001b[49m\u001b[38;5;28;43;01mfor\u001b[39;49;00m\u001b[43m \u001b[49m\u001b[43mx\u001b[49m\u001b[43m \u001b[49m\u001b[38;5;129;43;01min\u001b[39;49;00m\u001b[43m \u001b[49m\u001b[43my\u001b[49m\u001b[43m]\u001b[49m)\n",
      "Cell \u001b[1;32mIn[271], line 11\u001b[0m, in \u001b[0;36m<listcomp>\u001b[1;34m(.0)\u001b[0m\n\u001b[0;32m      1\u001b[0m classes_names \u001b[38;5;241m=\u001b[39m {\u001b[38;5;124m'\u001b[39m\u001b[38;5;124m0\u001b[39m\u001b[38;5;124m'\u001b[39m: \u001b[38;5;124m'\u001b[39m\u001b[38;5;124mT-shirt/top\u001b[39m\u001b[38;5;124m'\u001b[39m,\n\u001b[0;32m      2\u001b[0m \u001b[38;5;124m'\u001b[39m\u001b[38;5;124m1\u001b[39m\u001b[38;5;124m'\u001b[39m: \u001b[38;5;124m'\u001b[39m\u001b[38;5;124mTrouser\u001b[39m\u001b[38;5;124m'\u001b[39m,\n\u001b[0;32m      3\u001b[0m \u001b[38;5;124m'\u001b[39m\u001b[38;5;124m2\u001b[39m\u001b[38;5;124m'\u001b[39m: \u001b[38;5;124m'\u001b[39m\u001b[38;5;124mPullover\u001b[39m\u001b[38;5;124m'\u001b[39m,\n\u001b[1;32m   (...)\u001b[0m\n\u001b[0;32m      9\u001b[0m \u001b[38;5;124m'\u001b[39m\u001b[38;5;124m8\u001b[39m\u001b[38;5;124m'\u001b[39m: \u001b[38;5;124m'\u001b[39m\u001b[38;5;124mBag\u001b[39m\u001b[38;5;124m'\u001b[39m,\n\u001b[0;32m     10\u001b[0m \u001b[38;5;124m'\u001b[39m\u001b[38;5;124m9\u001b[39m\u001b[38;5;124m'\u001b[39m: \u001b[38;5;124m'\u001b[39m\u001b[38;5;124mAnkle boot\u001b[39m\u001b[38;5;124m'\u001b[39m}\n\u001b[1;32m---> 11\u001b[0m y_named \u001b[38;5;241m=\u001b[39m  np\u001b[38;5;241m.\u001b[39marray([\u001b[43mclasses_translation\u001b[49m\u001b[43m[\u001b[49m\u001b[43mx\u001b[49m\u001b[43m]\u001b[49m \u001b[38;5;28;01mfor\u001b[39;00m x \u001b[38;5;129;01min\u001b[39;00m y])\n",
      "\u001b[1;31mKeyError\u001b[0m: 3"
     ]
    }
   ],
   "source": [
    "classes_names = {'0': 'T-shirt/top',\n",
    "'1': 'Trouser',\n",
    "'2': 'Pullover',\n",
    "'3': 'Dress',\n",
    "'4': 'Coat',\n",
    "'5': 'Sandal',\n",
    "'6': 'Shirt',\n",
    "'7': 'Sneaker',\n",
    "'8': 'Bag',\n",
    "'9': 'Ankle boot'}\n",
    "y_named =  np.array([classes_translation[x] for x in y])"
   ]
  },
  {
   "cell_type": "markdown",
   "id": "8cdf3ab2-47a4-492f-bf9a-25c4b00eb945",
   "metadata": {},
   "source": [
    "Возьмите по одной картинке каждого класса и изобразите их (например, сделайте subplots 5 на 2)."
   ]
  },
  {
   "cell_type": "code",
   "execution_count": 272,
   "id": "362137fb-4577-4a21-8088-98cba79206f2",
   "metadata": {},
   "outputs": [
    {
     "data": {
      "image/png": "[encoded data removed]",
      "text/plain": [
       "<Figure size 1200x900 with 10 Axes>"
      ]
     },
     "metadata": {},
     "output_type": "display_data"
    }
   ],
   "source": [
    "fig, axs = plt.subplots(nrows=2, ncols=5)\n",
    "plt.subplots_adjust(wspace=0.01, hspace=1.2)\n",
    "for class_number, el_id, ax in zip(*np.unique(y_named, return_index=True), axs.ravel()):\n",
    "    image = X[el_id].reshape(28, 28, 1)\n",
    "    ax.imshow(image)\n",
    "    ax.set_title(f'Class {class_number}')\n",
    "    ax.xaxis.set_visible(False)\n",
    "    ax.yaxis.set_visible(False)"
   ]
  },
  {
   "cell_type": "markdown",
   "id": "866ea214-4de8-41b8-a2aa-c86ac0a04b74",
   "metadata": {},
   "source": [
    "### 1.2. Сделайте небольшой EDA (1 балл)"
   ]
  },
  {
   "cell_type": "markdown",
   "id": "1fe3abdf-2c95-4ce8-8fd3-2445d815ea3c",
   "metadata": {},
   "source": [
    "Посмотрите на баланс классов. В дальнейших домашках делайте EDA, когда считаете нужным, он нужен почти всегда, но оцениваться это уже не будет, если не будет указано иное. Делайте EDA, чтобы узнать что-то новое о данных!"
   ]
  },
  {
   "cell_type": "code",
   "execution_count": 273,
   "id": "74595ef7-06ab-4700-b9d9-42db3fdd36d5",
   "metadata": {
    "scrolled": false
   },
   "outputs": [
    {
     "data": {
      "image/png": "[encoded data removed]",
      "text/plain": [
       "<Figure size 1200x900 with 1 Axes>"
      ]
     },
     "metadata": {},
     "output_type": "display_data"
    }
   ],
   "source": [
    "classes, classes_counts = np.unique(y_named, return_counts=True)\n",
    "plt.bar(classes, classes_counts, width=.5) \n",
    "for i, val in enumerate(classes_counts):\n",
    "    plt.text(i, val, int(val), horizontalalignment='center', \n",
    "             verticalalignment='bottom', fontdict={'fontweight':500, 'size':12})\n",
    "\n",
    "plt.axhline(y=classes_counts.mean(), color='gray', label='Mean count')\n",
    "plt.title(\"Number of objects by classes\", fontsize=22)\n",
    "plt.ylabel('# Objects')\n",
    "plt.xlabel('Class')\n",
    "plt.legend();\n",
    "plt.grid(False)"
   ]
  },
  {
   "cell_type": "markdown",
   "id": "3aaf375b",
   "metadata": {},
   "source": [
    "> Количество объектов в каждом классе примерно одного порядка величины, так что все хорошо, работаем. "
   ]
  },
  {
   "cell_type": "markdown",
   "id": "68e8f61e-32d5-4ad7-9f2c-f7e0de050d32",
   "metadata": {},
   "source": [
    "### 1.3. Разделите данные на train и test (0.5 баллов)"
   ]
  },
  {
   "cell_type": "markdown",
   "id": "25cf3d30-6bd6-4bbb-bba6-4e249da33475",
   "metadata": {},
   "source": [
    "Разделите данные на тренировочную и тестовую выборки, размеры тестовой выборки выберите сами. Здесь вам может помочь функция `train_test_split`"
   ]
  },
  {
   "cell_type": "code",
   "execution_count": 274,
   "id": "1932bd43-16d6-4201-8950-7dbe720a9fa1",
   "metadata": {},
   "outputs": [],
   "source": [
    "X_train, X_test, y_train, y_test = train_test_split(X, y, test_size=0.33, random_state=SEED)"
   ]
  },
  {
   "cell_type": "markdown",
   "id": "7c8e4cd4-b3d7-49b7-9b10-be02991ecfa7",
   "metadata": {},
   "source": [
    "### 1.4. KNN для бинарной классификации (6 баллов)"
   ]
  },
  {
   "cell_type": "markdown",
   "id": "aac2e121-639a-4b0c-8e9c-471ad5a8fac6",
   "metadata": {},
   "source": [
    "Давайте возьмем для задачи бинарной классификации только объекты с метками классов 0 и 1."
   ]
  },
  {
   "cell_type": "code",
   "execution_count": 306,
   "id": "f40beae7-54a4-4323-b467-3173737dfd84",
   "metadata": {},
   "outputs": [
    {
     "name": "stdout",
     "output_type": "stream",
     "text": [
      " We now have 69 objects of class 0 and 61 objects of class 1 in Train\n",
      " We now have 33 objects of class 0 and 32 objects of class 1 in Test\n"
     ]
    }
   ],
   "source": [
    "# Мне кажется, тут лучше сперва отобрать а потом сделать сплит, \n",
    "# А то может такое случиться, что мы в ходе предыдущего сплита не совсем равномерно классов навыбирали\n",
    "y_bin = y[y < 2]\n",
    "X_bin = X[y < 2]\n",
    "\n",
    "binary_train_X, binary_test_X, binary_train_y, binary_test_y = train_test_split(X_bin, y_bin, test_size=0.33, random_state=SEED)\n",
    "\n",
    "shape_train, shape_test = pd.DataFrame(binary_train_y).value_counts(), pd.DataFrame(binary_test_y).value_counts()\n",
    "print(f' We now have {shape_train[1]} objects of class 0 and {shape_train[0]} objects of class 1 in Train')\n",
    "print(f' We now have {shape_test[1]} objects of class 0 and {shape_test[0]} objects of class 1 in Test')"
   ]
  },
  {
   "cell_type": "markdown",
   "id": "7df7db35-8832-47ec-9955-d0656695e7cd",
   "metadata": {},
   "source": [
    "И вот мы подготовили данные, но модели у нас пока что нет. В нескольких занятиях нашего курса вам придется самостоятельно реализовывать какие-то алгоритмы машинного обучения, а потом сравнивать их с готовыми библиотечными решениями. В остальных заданиях реализовывать алгоритмы будет не обязательно, но может быть полезно, поэтому часто это будут задания на дополнительные баллы, но главное не это, а понимание работы алгоритма после его реализации с нуля на простом numpy. Также это все потом можно оформить в виде репозитория ml_from_scratch и хвастаться перед друзьями."
   ]
  },
  {
   "cell_type": "code",
   "execution_count": 307,
   "id": "44d468e9-2a00-4268-bfdc-fbae3857ce90",
   "metadata": {},
   "outputs": [],
   "source": [
    "knn_classifier = KNNClassifier(k=1)\n",
    "knn_classifier.fit(binary_train_X, binary_train_y)"
   ]
  },
  {
   "cell_type": "markdown",
   "id": "c5817a1d-161e-4242-bea5-821f416b3eec",
   "metadata": {},
   "source": [
    "### Настало время писать код!"
   ]
  },
  {
   "cell_type": "markdown",
   "id": "61c760bb-63c9-426d-9f4e-8fab02536da5",
   "metadata": {},
   "source": [
    "В KNN нам нужно для каждого тестового примера найти расстояния до всех точек обучающей выборки. Допустим у нас 1000 примеров в train'е и 100 в test'е, тогда в итоге мы бы хотели получить матрицу попарных расстояний (например, размерностью 100 на 1000). Это можно сделать несколькими способами, и кому-то наверняка, в голову приходит идея с двумя вложенными циклами (надеюсь, что не больше:). Так можно делать, то можно и эффективнее. Вообще, в реальном KNN используется структура данных [k-d-tree](https://ru.wikipedia.org/wiki/K-d-%D0%B4%D0%B5%D1%80%D0%B5%D0%B2%D0%BE), которая позволяет производить поиск за log(N), а не за N, как будем делать мы (по сути это такое расширение бинарного поиска на многомерное пространство).\n",
    "\n",
    "Вам нужно будет последовательно реализовать методы `compute_distances_two_loops`, `compute_distances_one_loop` и `compute_distances_no_loops` класса `KNN` в файле `knn.py`.\n",
    "\n",
    "Эти функции строят массив расстояний между всеми векторами в тестовом наборе и в тренировочном наборе.  \n",
    "В результате они должны построить массив размера `(num_test, num_train)`, где координата `[i][j]` соотвествует расстоянию между i-м вектором в test (`test[i]`) и j-м вектором в train (`train[j]`).\n",
    "\n",
    "**Обратите внимание** Для простоты реализации мы будем использовать в качестве расстояния меру L1 (ее еще называют [Manhattan distance](https://ru.wikipedia.org/wiki/%D0%A0%D0%B0%D1%81%D1%81%D1%82%D0%BE%D1%8F%D0%BD%D0%B8%D0%B5_%D0%B3%D0%BE%D1%80%D0%BE%D0%B4%D1%81%D0%BA%D0%B8%D1%85_%D0%BA%D0%B2%D0%B0%D1%80%D1%82%D0%B0%D0%BB%D0%BE%D0%B2)).\n",
    "\n",
    "$d_{1}(\\mathbf {p} ,\\mathbf {q} )=\\|\\mathbf {p} -\\mathbf {q} \\|_{1}=\\sum _{i=1}^{n}|p_{i}-q_{i}|$"
   ]
  },
  {
   "cell_type": "markdown",
   "id": "c32db2d0-355c-4d74-961e-22d6f42aa11b",
   "metadata": {},
   "source": [
    "В начале я буду иногда писать разные assert'ы, чтобы можно было проверить правильность реализации, в дальнейшем вам нужно будет их писать самим, если нужно будет проверять корректность каких-то вычислений."
   ]
  },
  {
   "cell_type": "code",
   "execution_count": null,
   "id": "01b1ef27-4284-4d6c-978b-25f0fefd39be",
   "metadata": {},
   "outputs": [],
   "source": [
    "# TODO: compute_distances_two_loops\n",
    "dists = knn_classifier.compute_distances_two_loops(binary_test_X)\n",
    "assert np.isclose(dists[0, 100], np.sum(np.abs(binary_test_X[0] - binary_train_X[100])))"
   ]
  },
  {
   "cell_type": "code",
   "execution_count": null,
   "id": "505e2c4b-1cfe-4e4a-8002-d9ce089d100e",
   "metadata": {},
   "outputs": [],
   "source": [
    "# TODO: compute_distances_one_loop\n",
    "dists = knn_classifier.compute_distances_one_loop(binary_test_X)\n",
    "assert np.isclose(dists[0, 100], np.sum(np.abs(binary_test_X[0] - binary_train_X[100])))"
   ]
  },
  {
   "cell_type": "code",
   "execution_count": null,
   "id": "dd81b766-5de2-4f62-82cf-8b6bd52002db",
   "metadata": {},
   "outputs": [],
   "source": [
    "# TODO: compute_distances_no_loops\n",
    "dists = knn_classifier.compute_distances_no_loops(binary_test_X)\n",
    "assert np.isclose(dists[0, 100], np.sum(np.abs(binary_test_X[0] - binary_train_X[100])))"
   ]
  },
  {
   "cell_type": "markdown",
   "id": "64d108b7-b132-42b5-bdca-bc91af8ed3d7",
   "metadata": {},
   "source": [
    "Проверим скорость работы реализованных методов"
   ]
  },
  {
   "cell_type": "code",
   "execution_count": null,
   "id": "8ed08354-d0ef-497a-9d9c-b17c92b7bef9",
   "metadata": {},
   "outputs": [],
   "source": [
    "%timeit knn_classifier.compute_distances_two_loops(binary_test_X)\n",
    "%timeit knn_classifier.compute_distances_one_loop(binary_test_X)\n",
    "%timeit knn_classifier.compute_distances_no_loops(binary_test_X)"
   ]
  },
  {
   "cell_type": "markdown",
   "id": "8180ecc3-8c24-4564-8963-1a0123b06043",
   "metadata": {},
   "source": [
    "Реализуем метод для предсказания меток класса"
   ]
  },
  {
   "cell_type": "code",
   "execution_count": null,
   "id": "9ca2679e-c731-467b-94b5-91a3a0641d7e",
   "metadata": {},
   "outputs": [],
   "source": [
    "# TODO: predict_labels_binary in knn.py\n",
    "prediction = knn_classifier.predict(binary_test_X)"
   ]
  },
  {
   "cell_type": "markdown",
   "id": "d746796d-6ca0-4828-be8a-8b9e22999f54",
   "metadata": {},
   "source": [
    "### Метрика"
   ]
  },
  {
   "cell_type": "markdown",
   "id": "c29f2abf-be34-4273-a7cd-d2c62ba1eecc",
   "metadata": {},
   "source": [
    "Теперь нужно реализовать несколько метрик для бинарной классификации. Не забудьте подумать о численной нестабильности (деление на 0)."
   ]
  },
  {
   "cell_type": "code",
   "execution_count": null,
   "id": "94268969-5334-4672-a939-65733068a89a",
   "metadata": {},
   "outputs": [],
   "source": [
    "# TODO: binary_classification_metrics in metrics.py"
   ]
  },
  {
   "cell_type": "code",
   "execution_count": null,
   "id": "7842978b-a328-4035-b9c4-eb3711cb58c4",
   "metadata": {},
   "outputs": [],
   "source": [
    "binary_classification_metrics(prediction, binary_test_y)"
   ]
  },
  {
   "cell_type": "markdown",
   "id": "71dbca1f-9ad4-4059-9b1c-0c0c85d7d816",
   "metadata": {},
   "source": [
    "Все ли хорошо с моделью? Можно проверить свою реализацию с функциями из библиотеки `sklearn`:"
   ]
  },
  {
   "cell_type": "markdown",
   "id": "5982d081-ddf9-4522-99b0-459a5cee087c",
   "metadata": {},
   "source": [
    "<img src=\"https://i.imgflip.com/406fu9.jpg\" width=\"800\" height=\"400\">"
   ]
  },
  {
   "cell_type": "code",
   "execution_count": null,
   "id": "5caeb94f-6464-4adf-b3b6-8e12bf4a50b4",
   "metadata": {},
   "outputs": [],
   "source": [
    "from sklearn.metrics import precision_score, recall_score, f1_score, accuracy_score"
   ]
  },
  {
   "cell_type": "markdown",
   "id": "6e9b0e1a-3c67-4cc3-bf75-6848f43e8256",
   "metadata": {},
   "source": [
    "### Подбор оптимального k"
   ]
  },
  {
   "cell_type": "markdown",
   "id": "4069069e-f200-4673-a99c-745e7a5b6b36",
   "metadata": {},
   "source": [
    "Чтобы подрбрать оптимальное значение параметра k можно сделать следующее: задать область допустимых значений k, например, `[1, 3, 5, 10]`. Дальше для каждого k обучить модель на тренировочных данных, сделать предсказания на тестовых и посчитать какую-нибудь метрику (метрику выберите сами исходя из задачи, но постарайтесь обосновать выбор). В конце нужно посмотреть на зависимость метрики на train'е и test'е от k и выбрать подходящее значение.\n",
    "\n",
    "Реализуйте функцию `choose_best_k` прямо в ноутбуке."
   ]
  },
  {
   "cell_type": "code",
   "execution_count": null,
   "id": "374d6fcf-21f2-433c-b011-76019201ce52",
   "metadata": {},
   "outputs": [],
   "source": [
    "def find_best_k(X_train, y_train, X_test, y_test, params, metric):\n",
    "    \"\"\"\n",
    "    Choose the best k for KKNClassifier\n",
    "    Arguments:\n",
    "    X_train, np array (num_train_samples, num_features) - train data\n",
    "    y_train, np array (num_train_samples) - train labels\n",
    "    X_test, np array (num_test_samples, num_features) - test data\n",
    "    y_test, np array (num_test_samples) - test labels\n",
    "    params, list of hyperparameters for KNN, here it is list of k values\n",
    "    metric, function for metric calculation\n",
    "    Returns:\n",
    "    train_metrics the list of metric values on train data set for each k in params\n",
    "    test_metrics the list of metric values on test data set for each k in params\n",
    "    \"\"\"\n",
    "    \n",
    "    \"\"\"\n",
    "    YOUR CODE IS HERE\n",
    "    \"\"\"\n",
    "    pass"
   ]
  },
  {
   "cell_type": "code",
   "execution_count": null,
   "id": "a2418dd8-93f1-4a11-8488-a8bce98e7d5f",
   "metadata": {
    "tags": []
   },
   "outputs": [],
   "source": [
    "params = [1, 2, 4, 5, 8, 10, 30]\n",
    "train_metrics, test_metrics = find_best_k(binary_train_X, binary_train_y, binary_test_X, binary_test_y, params, accuracy_score)"
   ]
  },
  {
   "cell_type": "code",
   "execution_count": null,
   "id": "7053ce06-854c-412b-8559-833595b1d6c0",
   "metadata": {},
   "outputs": [],
   "source": [
    "plt.plot(params, train_metrics, label=\"train\")\n",
    "plt.plot(params, test_metrics, label=\"test\")\n",
    "plt.legend()\n",
    "plt.xlabel(\"K in KNN\")\n",
    "plt.ylabel(\"YOUR METRIC\");"
   ]
  },
  {
   "cell_type": "markdown",
   "id": "73fdecd7-a4b6-4ca9-8688-d1ae2195647f",
   "metadata": {},
   "source": [
    "На самом деле, это не самый лучший способ подбирать гиперпараметры, но способы получше мы рассмотрим в следующий раз, а пока что выберите оптимальное значение k, сделайте предсказания и посмотрите, насколько хорошо ваша модель предсказывает каждый из классов."
   ]
  },
  {
   "cell_type": "markdown",
   "id": "0bc98c29-3217-407c-a466-58072bb7b8cc",
   "metadata": {},
   "source": [
    "### 1.5. Многоклассоввая классификация (2 балла)"
   ]
  },
  {
   "cell_type": "markdown",
   "id": "aa0fa9bf-3002-4b0e-8e52-1d9e70795092",
   "metadata": {},
   "source": [
    "Теперь нужно научиться предсказывать все 10 классов. Для этого в начале напишем соответствующий метод у нашего классификатора."
   ]
  },
  {
   "cell_type": "code",
   "execution_count": null,
   "id": "88b37ef1-fa15-4cc5-8558-0254890c899d",
   "metadata": {},
   "outputs": [],
   "source": [
    "# TODO: predict_labels_multiclass in knn.py\n",
    "knn_classifier = KNNClassifier(k=1)\n",
    "knn_classifier.fit(X_train, y_train)\n",
    "predictions = knn_classifier.predict(X_test)"
   ]
  },
  {
   "cell_type": "markdown",
   "id": "fa8ed7ad-e347-4f78-b34f-88febee9e94b",
   "metadata": {},
   "source": [
    "Осталось реализовать метрику качества для многоклассовой классификации, для этого реализуйте функцию `multiclass_accuracy` в `metrics.py`."
   ]
  },
  {
   "cell_type": "code",
   "execution_count": null,
   "id": "65887922-a799-4042-902e-f63f69508beb",
   "metadata": {},
   "outputs": [],
   "source": [
    "# TODO: multiclass_accuracy in metrics.py\n",
    "multiclass_accuracy(predictions, y_test)"
   ]
  },
  {
   "cell_type": "markdown",
   "id": "a6fe44f6-e056-4f17-beb6-0ce65fab268f",
   "metadata": {},
   "source": [
    "Снова выберите оптимальное значение K как мы делали для бинарной классификации."
   ]
  },
  {
   "cell_type": "markdown",
   "id": "daa8ee4a-88c1-4967-84f1-6f7ec223db7e",
   "metadata": {},
   "source": [
    "## Задание 2. KNN на датасете diabetes (10 баллов)"
   ]
  },
  {
   "cell_type": "markdown",
   "id": "d3dac1f9-42ef-406f-988c-2d663b8b2806",
   "metadata": {},
   "source": [
    "Теперь попробуем применить KNN к задаче регрессии. Будем работать с [данными](https://scikit-learn.org/stable/datasets/toy_dataset.html#diabetes-dataset) о диабете. В этом задании будем использовать класс `KNeighborsRegressor` из библиотеки `sklearn`. Загрузим необходимые библиотеки:"
   ]
  },
  {
   "cell_type": "code",
   "execution_count": null,
   "id": "8ab4c84e-6036-4fe2-b81f-8115bf0a4774",
   "metadata": {},
   "outputs": [],
   "source": [
    "from sklearn.datasets import load_diabetes\n",
    "from sklearn.metrics import r2_score, mean_absolute_error, mean_squared_error\n",
    "from sklearn.preprocessing import StandardScaler\n",
    "from sklearn.neighbors import KNeighborsRegressor"
   ]
  },
  {
   "cell_type": "code",
   "execution_count": null,
   "id": "4136b3bb-e482-4102-ad5f-af5b3b1a030a",
   "metadata": {},
   "outputs": [],
   "source": [
    "X, y = load_diabetes(as_frame=True, return_X_y=True)"
   ]
  },
  {
   "cell_type": "code",
   "execution_count": null,
   "id": "c884e687-964a-4b00-9f10-232c45705f12",
   "metadata": {},
   "outputs": [],
   "source": [
    "X.head()"
   ]
  },
  {
   "cell_type": "markdown",
   "id": "9ce6cd71-dd17-40af-b7cc-c48e61d31719",
   "metadata": {},
   "source": [
    "### 2.1. EDA (2 обязательных балла + 2 доп. балла за Pipeline)"
   ]
  },
  {
   "cell_type": "markdown",
   "id": "4397b3ad-63f9-4b25-ab7e-d572216e21c5",
   "metadata": {},
   "source": [
    "Сделайте EDA, предобработайте данные так, как считаете нужным, нужна ли в данном случае стандартизация и почему? Не забудте, что если вы стандартизуете данные, то нужно считать среднее и сдандартное отклонение на тренировочной части и с помощью них трансформировать и train, и test (**если не поняли это предложение, то обязательно разберитесь**).\n",
    "\n",
    "**Дополнительно**:\n",
    "Попробуйте разобраться с [`Pipeline`](https://scikit-learn.org/stable/modules/generated/sklearn.pipeline.Pipeline.html), чтобы можно было создать класс, который сразу проводит стандартизацию и обучает модель (или делает предсказание). Пайплайны очень удобны, когда нужно применять различные методы предобработки данных (в том числе и к разным столбцам), а также они позволяют правильно интегрировать предобработку данных в различные классы для поиска наилучших гиперпараметров модели (например, `GridSearchCV`)."
   ]
  },
  {
   "cell_type": "code",
   "execution_count": null,
   "id": "a4aa413d-d830-4355-a063-9c5d6d5a6c9a",
   "metadata": {},
   "outputs": [],
   "source": [
    "from sklearn.pipeline import Pipeline"
   ]
  },
  {
   "cell_type": "markdown",
   "id": "8e1fa5ec-18db-4e7b-88f1-6d010f449488",
   "metadata": {},
   "source": [
    "### 2.2. Регрессионная модель (1 балл)"
   ]
  },
  {
   "cell_type": "markdown",
   "id": "3d79f583-5feb-4eeb-b748-9b4cdea9150d",
   "metadata": {},
   "source": [
    "Создайте модель `KNeighborsRegressor`, обучите ее на треноровочных данных и сделайте предсказания."
   ]
  },
  {
   "cell_type": "markdown",
   "id": "5ed4a2ea-4f42-43cb-95d7-50cdeab5f284",
   "metadata": {},
   "source": [
    "### 2.3. Метрики регресии (3 балла)"
   ]
  },
  {
   "cell_type": "markdown",
   "id": "cbf563ad-1b71-464c-8359-75fa4da268d3",
   "metadata": {},
   "source": [
    "Реализуйте метрики $R^2$, MSE и  MAE в `metrics.py`. Примените их для оценки качества полученной модели. Все ли хорошо?\n",
    "\n",
    "Напомню, что:\n",
    "\n",
    "$R^2 = 1 - \\frac{\\sum_i^n{(y_i - \\hat{y_i})^2}}{\\sum_i^n{(y_i - \\overline{y})^2}}$\n",
    "\n",
    "$MSE = \\frac{1}{n}\\sum_i^n{(y_i - \\hat{y_i})^2}$\n",
    "\n",
    "$MAE = \\frac{1}{n}\\sum_i^n{|y_i - \\hat{y_i}|}$"
   ]
  },
  {
   "cell_type": "code",
   "execution_count": null,
   "id": "580f604f-e9c5-4109-8b9f-235369836057",
   "metadata": {},
   "outputs": [],
   "source": [
    "# TODO: r_squared, mse, mae in metrics.py"
   ]
  },
  {
   "cell_type": "markdown",
   "id": "a6568d8d-a9ec-4639-aac1-0ea18a644f9e",
   "metadata": {},
   "source": [
    "### 2.4. Подбор оптимального числа соседей (2 балла)"
   ]
  },
  {
   "cell_type": "markdown",
   "id": "d82f145d-41f5-4bbe-b553-1d05d90ec2a2",
   "metadata": {},
   "source": [
    "Мы почти дошли до конца. Теперь осталось при помощи реализованных нами метрик выбрать лучшее количество соседей для нашей модели.\n",
    "\n",
    "!!! Обратите внимание на то, что значат наши метрики, для некоторых хорошо, когда они уменьшаются, для других наоборот."
   ]
  },
  {
   "cell_type": "code",
   "execution_count": null,
   "id": "138a7969-8079-4a38-b92e-8eae5d246325",
   "metadata": {},
   "outputs": [],
   "source": [
    "from metrics import r_squared, mse, mae"
   ]
  },
  {
   "cell_type": "markdown",
   "id": "1b4bbef7-35a4-4f05-abf8-5d2b450c86f2",
   "metadata": {},
   "source": [
    "Для поиска лучшего k вы можете воспользоваться функцией `find_best_k`, которую вы реализовали выше."
   ]
  },
  {
   "cell_type": "markdown",
   "id": "2cb77960-fa30-4a29-9a1b-7c195cc867cb",
   "metadata": {},
   "source": [
    "### 3. Социализация (0.5 доп. балла)\n",
    "\n",
    "Так как у нас теперь большая группа, то было бы здорово всем познакомиться получше (так как выпускной не за горами). Соберитесь с одногруппниками в зуме (желательно, чтобы были люди и с Онлайна, и с Питера), познакомьтесь, а сюда прикрепите скриншот с камерами всех участников."
   ]
  },
  {
   "cell_type": "markdown",
   "id": "e116a42f-fae8-499c-a985-dc09e66a29b0",
   "metadata": {},
   "source": [
    "## Therapy time"
   ]
  },
  {
   "cell_type": "markdown",
   "id": "031c493b-26f3-4622-a1f4-affee64f81db",
   "metadata": {},
   "source": [
    "Напишите здесь ваши впечатления о задании: было ли интересно, было ли слишком легко или наоборот сложно и тд. Также сюда можно написать свои идеи по улучшению заданий, а также предложить данные, на основе которых вы бы хотели построить следующие дз. "
   ]
  },
  {
   "cell_type": "markdown",
   "id": "6d1c75b8",
   "metadata": {},
   "source": [
    "**Ваши мысли:**"
   ]
  }
 ],
 "metadata": {
  "kernelspec": {
   "display_name": "Python 3 (ipykernel)",
   "language": "python",
   "name": "python3"
  },
  "language_info": {
   "codemirror_mode": {
    "name": "ipython",
    "version": 3
   },
   "file_extension": ".py",
   "mimetype": "text/x-python",
   "name": "python",
   "nbconvert_exporter": "python",
   "pygments_lexer": "ipython3",
   "version": "3.11.0"
  }
 },
 "nbformat": 4,
 "nbformat_minor": 5
}
